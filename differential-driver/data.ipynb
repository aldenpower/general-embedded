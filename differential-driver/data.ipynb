{
 "cells": [
  {
   "cell_type": "code",
   "execution_count": 65,
   "metadata": {},
   "outputs": [
    {
     "name": "stdout",
     "output_type": "stream",
     "text": [
      "wheel radius>  0.325 m wheel separation>  0.17 m\n"
     ]
    }
   ],
   "source": [
    "wheel_radius = (65 / 2) * 0.01\n",
    "wheel_sep = 17 * 0.01\n",
    "\n",
    "print('wheel radius> ', wheel_radius, 'm','wheel separation> ', wheel_sep, 'm')"
   ]
  },
  {
   "cell_type": "code",
   "execution_count": 57,
   "metadata": {},
   "outputs": [],
   "source": [
    "# cmd_vel message\n",
    "msg_linear_x = 1\n",
    "msg_angular_z = 0\n"
   ]
  },
  {
   "cell_type": "code",
   "execution_count": 58,
   "metadata": {},
   "outputs": [
    {
     "name": "stdout",
     "output_type": "stream",
     "text": [
      "204.1 cm\n"
     ]
    }
   ],
   "source": [
    "wheel_rad = 0.07 / 5\n",
    "wheel_sep = 0.17\n",
    "\n",
    "wheel_d = 65 * 3.14\n",
    "print(wheel_d, 'cm')"
   ]
  },
  {
   "cell_type": "code",
   "execution_count": 59,
   "metadata": {},
   "outputs": [
    {
     "name": "stdout",
     "output_type": "stream",
     "text": [
      "1 0\n"
     ]
    }
   ],
   "source": [
    "speed_lin = msg_linear_x\n",
    "speed_ang = msg_angular_z\n",
    "\n",
    "print(speed_lin, speed_ang)"
   ]
  },
  {
   "cell_type": "code",
   "execution_count": 60,
   "metadata": {},
   "outputs": [
    {
     "name": "stdout",
     "output_type": "stream",
     "text": [
      "71.42857142857142 71.42857142857142\n"
     ]
    }
   ],
   "source": [
    "w_r = (speed_lin / wheel_rad) + ((speed_ang * wheel_sep)/(2.0 * wheel_rad))\n",
    "w_l = (speed_lin / wheel_rad) - ((speed_ang * wheel_sep)/(2.0 * wheel_rad))\n",
    "\n",
    "print(w_r, w_l)"
   ]
  }
 ],
 "metadata": {
  "interpreter": {
   "hash": "916dbcbb3f70747c44a77c7bcd40155683ae19c65e1c03b4aa3499c5328201f1"
  },
  "kernelspec": {
   "display_name": "Python 3.8.10 64-bit",
   "language": "python",
   "name": "python3"
  },
  "language_info": {
   "codemirror_mode": {
    "name": "ipython",
    "version": 3
   },
   "file_extension": ".py",
   "mimetype": "text/x-python",
   "name": "python",
   "nbconvert_exporter": "python",
   "pygments_lexer": "ipython3",
   "version": "3.8.10"
  },
  "orig_nbformat": 4
 },
 "nbformat": 4,
 "nbformat_minor": 2
}
