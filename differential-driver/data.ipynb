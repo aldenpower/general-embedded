{
 "cells": [
  {
   "cell_type": "code",
   "execution_count": 2,
   "metadata": {},
   "outputs": [
    {
     "name": "stdout",
     "output_type": "stream",
     "text": [
      "wheel radius >  0.034 m\n",
      "wheel separation >  0.156 m\n"
     ]
    }
   ],
   "source": [
    "wheel_radius = (68 / 2) * 0.001\n",
    "wheel_sep = 156 * 0.001\n",
    "\n",
    "print('wheel radius > ', wheel_radius, 'm')\n",
    "print('wheel separation > ', wheel_sep, 'm')"
   ]
  },
  {
   "cell_type": "code",
   "execution_count": 45,
   "metadata": {},
   "outputs": [],
   "source": [
    "# cmd_vel message\n",
    "\n",
    "# linear x velocity in m/s\n",
    "msg_linear_x = 1\n",
    "\n",
    "# angular z velocity in rad/s\n",
    "msg_angular_z = 0\n"
   ]
  },
  {
   "cell_type": "code",
   "execution_count": 46,
   "metadata": {},
   "outputs": [],
   "source": [
    "speed_lin = msg_linear_x\n",
    "speed_ang = msg_angular_z\n",
    "\n",
    "# Montar o robô e lançar o máximo pulso dos pwm para descobrir a velocidade máxima\n",
    "# Utilizar os encoders para averiguar qual distância ele percorre\n",
    "# Ou pintar a roda e ver a distância, para isso preciso da tensão máxima no motor\n",
    "max_speed = 2"
   ]
  },
  {
   "cell_type": "code",
   "execution_count": 48,
   "metadata": {},
   "outputs": [
    {
     "name": "stdout",
     "output_type": "stream",
     "text": [
      "1.0 1.0 50.0 50.0\n",
      "pwm value: 127.5\n"
     ]
    }
   ],
   "source": [
    "left_speed = speed_lin - (speed_ang * wheel_sep / 2)\n",
    "right_speed = speed_lin + (speed_ang * wheel_sep / 2)\n",
    "\n",
    "# Aplicar as percentagens no valor do pulso do pwm no código do arduino\n",
    "left_speed_percent = 100 * left_speed / max_speed\n",
    "right_speed_percent = 100 * right_speed / max_speed\n",
    "\n",
    "# Speed percent de 0.4 a 1.0\n",
    "print(left_speed, right_speed, left_speed_percent, right_speed_percent)\n",
    "\n",
    "print('pwm value:', left_speed_percent / 100 * 255)"
   ]
  }
 ],
 "metadata": {
  "interpreter": {
   "hash": "916dbcbb3f70747c44a77c7bcd40155683ae19c65e1c03b4aa3499c5328201f1"
  },
  "kernelspec": {
   "display_name": "Python 3.8.10 64-bit",
   "language": "python",
   "name": "python3"
  },
  "language_info": {
   "codemirror_mode": {
    "name": "ipython",
    "version": 3
   },
   "file_extension": ".py",
   "mimetype": "text/x-python",
   "name": "python",
   "nbconvert_exporter": "python",
   "pygments_lexer": "ipython3",
   "version": "3.8.10"
  },
  "orig_nbformat": 4
 },
 "nbformat": 4,
 "nbformat_minor": 2
}
